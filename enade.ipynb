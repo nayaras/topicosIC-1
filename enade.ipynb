{
 "cells": [
  {
   "cell_type": "markdown",
   "metadata": {},
   "source": [
    "# Disciplina: Tópicos em Inteligência Computacional\n",
    "Instituto Federal do Norte de Minas Gerais Campus Montes Claros <br/>\n",
    "Curso: Ciência da Computação <br/>\n",
    "Professora: Luciana Balieiro Cosme<br/>\n",
    "Equipe: Marianna Leandra, Nayara Thaiza e Samuel Soares <br/>\n",
    "**Trabalho: Exploração de outras bases de dados - ENADE** <br/>"
   ]
  },
  {
   "cell_type": "markdown",
   "metadata": {},
   "source": [
    "**ENADE 2017** <br/>\n",
    "Dados retirados de: http://portal.inep.gov.br/web/guest/microdados <br/>\n",
    "Análise: Desempenho dos alunos de instituições federais que estudam na modalidade presencial e moram sem familiares em comparação ao que residem com familiares.\n"
   ]
  },
  {
   "cell_type": "code",
   "execution_count": 1,
   "metadata": {},
   "outputs": [
    {
     "data": {
      "text/plain": [
       "(537436, 150)"
      ]
     },
     "execution_count": 1,
     "metadata": {},
     "output_type": "execute_result"
    }
   ],
   "source": [
    "import pandas\n",
    "import matplotlib.pyplot as plt\n",
    "\n",
    "enade2017=pandas.read_csv(\"MICRODADOS_ENADE_2017.txt\", sep=';',dtype={\"DS_VT_ESC_OFG\": str, \n",
    "                                                                               'DS_VT_ESC_OCE':str,\n",
    "                                                                              'DS_VT_ACE_OCE':str,\n",
    "                                                                              'NT_GER':str,\n",
    "                                                                              'NT_FG':str,\n",
    "                                                                              'NT_OBJ_FG':str,\n",
    "                                                                              'NT_DIS_FG':str,\n",
    "                                                                              'NT_CE':str,\n",
    "                                                                              'NT_OBJ_CE':str,\n",
    "                                                                              'NT_DIS_CE':str})\n",
    "\n",
    "\n",
    "enade2017.shape"
   ]
  },
  {
   "cell_type": "code",
   "execution_count": 2,
   "metadata": {},
   "outputs": [
    {
     "data": {
      "text/plain": [
       "Index(['NU_ANO', 'CO_IES', 'CO_CATEGAD', 'CO_ORGACAD', 'CO_GRUPO', 'CO_CURSO',\n",
       "       'CO_MODALIDADE', 'CO_MUNIC_CURSO', 'CO_UF_CURSO', 'CO_REGIAO_CURSO'],\n",
       "      dtype='object')"
      ]
     },
     "execution_count": 2,
     "metadata": {},
     "output_type": "execute_result"
    }
   ],
   "source": [
    "enade2017.columns[0:10]"
   ]
  },
  {
   "cell_type": "code",
   "execution_count": 3,
   "metadata": {},
   "outputs": [
    {
     "data": {
      "text/html": [
       "<div>\n",
       "<style scoped>\n",
       "    .dataframe tbody tr th:only-of-type {\n",
       "        vertical-align: middle;\n",
       "    }\n",
       "\n",
       "    .dataframe tbody tr th {\n",
       "        vertical-align: top;\n",
       "    }\n",
       "\n",
       "    .dataframe thead th {\n",
       "        text-align: right;\n",
       "    }\n",
       "</style>\n",
       "<table border=\"1\" class=\"dataframe\">\n",
       "  <thead>\n",
       "    <tr style=\"text-align: right;\">\n",
       "      <th></th>\n",
       "      <th>NT_GER</th>\n",
       "      <th>CO_CATEGAD</th>\n",
       "      <th>CO_ORGACAD</th>\n",
       "      <th>CO_MODALIDADE</th>\n",
       "      <th>QE_I06</th>\n",
       "    </tr>\n",
       "  </thead>\n",
       "  <tbody>\n",
       "    <tr>\n",
       "      <th>0</th>\n",
       "      <td>52,6</td>\n",
       "      <td>1</td>\n",
       "      <td>10028</td>\n",
       "      <td>1</td>\n",
       "      <td>A</td>\n",
       "    </tr>\n",
       "    <tr>\n",
       "      <th>1</th>\n",
       "      <td>63,1</td>\n",
       "      <td>1</td>\n",
       "      <td>10028</td>\n",
       "      <td>1</td>\n",
       "      <td>C</td>\n",
       "    </tr>\n",
       "    <tr>\n",
       "      <th>2</th>\n",
       "      <td>33,7</td>\n",
       "      <td>1</td>\n",
       "      <td>10028</td>\n",
       "      <td>1</td>\n",
       "      <td>B</td>\n",
       "    </tr>\n",
       "    <tr>\n",
       "      <th>3</th>\n",
       "      <td>58,1</td>\n",
       "      <td>1</td>\n",
       "      <td>10028</td>\n",
       "      <td>1</td>\n",
       "      <td>D</td>\n",
       "    </tr>\n",
       "    <tr>\n",
       "      <th>4</th>\n",
       "      <td>46,3</td>\n",
       "      <td>1</td>\n",
       "      <td>10028</td>\n",
       "      <td>1</td>\n",
       "      <td>B</td>\n",
       "    </tr>\n",
       "    <tr>\n",
       "      <th>5</th>\n",
       "      <td>64,2</td>\n",
       "      <td>1</td>\n",
       "      <td>10028</td>\n",
       "      <td>1</td>\n",
       "      <td>B</td>\n",
       "    </tr>\n",
       "    <tr>\n",
       "      <th>6</th>\n",
       "      <td>41,4</td>\n",
       "      <td>1</td>\n",
       "      <td>10028</td>\n",
       "      <td>1</td>\n",
       "      <td>B</td>\n",
       "    </tr>\n",
       "    <tr>\n",
       "      <th>7</th>\n",
       "      <td>48,8</td>\n",
       "      <td>1</td>\n",
       "      <td>10028</td>\n",
       "      <td>1</td>\n",
       "      <td>B</td>\n",
       "    </tr>\n",
       "    <tr>\n",
       "      <th>8</th>\n",
       "      <td>52,9</td>\n",
       "      <td>1</td>\n",
       "      <td>10028</td>\n",
       "      <td>1</td>\n",
       "      <td>B</td>\n",
       "    </tr>\n",
       "    <tr>\n",
       "      <th>9</th>\n",
       "      <td>62,7</td>\n",
       "      <td>1</td>\n",
       "      <td>10028</td>\n",
       "      <td>1</td>\n",
       "      <td>B</td>\n",
       "    </tr>\n",
       "  </tbody>\n",
       "</table>\n",
       "</div>"
      ],
      "text/plain": [
       "  NT_GER  CO_CATEGAD  CO_ORGACAD  CO_MODALIDADE QE_I06\n",
       "0   52,6           1       10028              1      A\n",
       "1   63,1           1       10028              1      C\n",
       "2   33,7           1       10028              1      B\n",
       "3   58,1           1       10028              1      D\n",
       "4   46,3           1       10028              1      B\n",
       "5   64,2           1       10028              1      B\n",
       "6   41,4           1       10028              1      B\n",
       "7   48,8           1       10028              1      B\n",
       "8   52,9           1       10028              1      B\n",
       "9   62,7           1       10028              1      B"
      ]
     },
     "execution_count": 3,
     "metadata": {},
     "output_type": "execute_result"
    }
   ],
   "source": [
    "'''\n",
    "nota geral: 0-98 \n",
    "questão08: Qual a renda total de sua família, incluindo seus rendimentos?\n",
    "A = Até 1,5 salário mínimo (até R$ 1.405,50).\n",
    "B = De 1,5 a 3 salários mínimos (R$ 1.405,51 a R$ 2.811,00).\n",
    "C = De 3 a 4,5 salários mínimos (R$ 2.811,01 a R$ 4.216,50).\n",
    "D = De 4,5 a 6 salários mínimos (R$ 4.216,51 a R$ 5.622,00).\n",
    "E = De 6 a 10 salários mínimos (R$ 5. 622,01 a R$ 9.370,00).\n",
    "F = De 10 a 30 salários mínimos (R$ 9.370,01 a R$ 28.110,00).\n",
    "G = Acima de 30 salários mínimos (mais de R$ 28.110,00).\n",
    "\n",
    "QE_I06 Onde e com quem você mora atualmente?\n",
    "A = Em casa ou apartamento, sozinho.\n",
    "B = Em casa ou apartamento, com pais e/ou parentes.\n",
    "C = Em casa ou apartamento, com cônjuge e/ou filhos.\n",
    "D = Em casa ou apartamento, com outras pessoas (incluindo república).\n",
    "E = Em alojamento universitário da própria instituição.\n",
    "F = Em outros tipos de habitação individual ou coletiva (hotel, hospedaria, pensão ou outro)\n",
    "\n",
    "'''\n",
    "\n",
    "tabela = pandas.DataFrame(enade2017, columns=['NT_GER', 'CO_CATEGAD', 'CO_ORGACAD', 'CO_MODALIDADE', 'QE_I06'])\n",
    "tabela.head(10)"
   ]
  },
  {
   "cell_type": "code",
   "execution_count": 4,
   "metadata": {},
   "outputs": [
    {
     "name": "stdout",
     "output_type": "stream",
     "text": [
      "0         52.6\n",
      "1         63.1\n",
      "2         33.7\n",
      "3         58.1\n",
      "4         46.3\n",
      "5         64.2\n",
      "6         41.4\n",
      "7         48.8\n",
      "8         52.9\n",
      "9         62.7\n",
      "10        51.9\n",
      "11        58.4\n",
      "12        77.7\n",
      "13        37.5\n",
      "14        66.4\n",
      "15        71.5\n",
      "16        57.8\n",
      "17        62.7\n",
      "18        75.1\n",
      "19        50.5\n",
      "20        46.1\n",
      "21        44.1\n",
      "22        47.9\n",
      "23        55.1\n",
      "24        73.5\n",
      "25        60.4\n",
      "26        62.7\n",
      "27        49.5\n",
      "28        44.9\n",
      "29        27.7\n",
      "          ... \n",
      "537406     NaN\n",
      "537407     NaN\n",
      "537408     NaN\n",
      "537409     NaN\n",
      "537410     NaN\n",
      "537411     NaN\n",
      "537412     NaN\n",
      "537413     NaN\n",
      "537414     NaN\n",
      "537415     NaN\n",
      "537416     NaN\n",
      "537417     NaN\n",
      "537418     NaN\n",
      "537419     NaN\n",
      "537420     NaN\n",
      "537421     NaN\n",
      "537422     NaN\n",
      "537423     NaN\n",
      "537424     NaN\n",
      "537425     NaN\n",
      "537426     NaN\n",
      "537427     NaN\n",
      "537428     NaN\n",
      "537429     NaN\n",
      "537430     NaN\n",
      "537431     NaN\n",
      "537432     NaN\n",
      "537433     NaN\n",
      "537434     NaN\n",
      "537435     NaN\n",
      "Name: NT_GER, Length: 537436, dtype: object\n"
     ]
    }
   ],
   "source": [
    "##limpeza dos dados\n",
    "\n",
    "#substitui vírgula por ponto\n",
    "tabela['NT_GER'] = tabela['NT_GER'].str.replace(',', '.')\n",
    "print (tabela['NT_GER'])\n",
    "\n",
    "#observe os NaN (not a number)"
   ]
  },
  {
   "cell_type": "code",
   "execution_count": 5,
   "metadata": {},
   "outputs": [
    {
     "name": "stdout",
     "output_type": "stream",
     "text": [
      "0         52.6\n",
      "1         63.1\n",
      "2         33.7\n",
      "3         58.1\n",
      "4         46.3\n",
      "5         64.2\n",
      "6         41.4\n",
      "7         48.8\n",
      "8         52.9\n",
      "9         62.7\n",
      "10        51.9\n",
      "11        58.4\n",
      "12        77.7\n",
      "13        37.5\n",
      "14        66.4\n",
      "15        71.5\n",
      "16        57.8\n",
      "17        62.7\n",
      "18        75.1\n",
      "19        50.5\n",
      "20        46.1\n",
      "21        44.1\n",
      "22        47.9\n",
      "23        55.1\n",
      "24        73.5\n",
      "25        60.4\n",
      "26        62.7\n",
      "27        49.5\n",
      "28        44.9\n",
      "29        27.7\n",
      "          ... \n",
      "534887    43.8\n",
      "534888    46.9\n",
      "534890    48.2\n",
      "534891    49.6\n",
      "534892    63.2\n",
      "534893    31.9\n",
      "534895    71.5\n",
      "534896    59.6\n",
      "534897    15.1\n",
      "534898    44.7\n",
      "534900    30.8\n",
      "534901    16.3\n",
      "534902    66.3\n",
      "534903    34.9\n",
      "534904    71.9\n",
      "534905    56.0\n",
      "534906    45.9\n",
      "534907    43.3\n",
      "534908    68.4\n",
      "534909    39.3\n",
      "534910    69.6\n",
      "534911    53.8\n",
      "534912    15.2\n",
      "534913    59.8\n",
      "534914    42.7\n",
      "534915    35.6\n",
      "534916    66.1\n",
      "534917    70.2\n",
      "534918    51.9\n",
      "534919    52.8\n",
      "Name: NT_GER, Length: 449932, dtype: float64\n",
      "43.52396851079471\n"
     ]
    }
   ],
   "source": [
    "'''No arquivo 'Dicionário de variáveis dos Microdados do Enade_Edição 2017' descreve que:\n",
    "o codigo 222 no campo TP_PR_GER significa ausente \n",
    "556 e 888 são participações desconsideradas.\n",
    "Portanto, algumas notas podem ser desconsideradas dependendo do seu objetivo, \n",
    "e aqui, será de calcular a média daqueles que fizeram a prova.\n",
    "'''\n",
    "tabela=tabela.loc[(tabela['NT_GER'].notnull())]\n",
    "#print(tabela['NT_GER'])\n",
    "#converte de str para float\n",
    "tabela['NT_GER'] = pandas.to_numeric(tabela['NT_GER'])\n",
    "print(tabela['NT_GER'])\n",
    "print(tabela['NT_GER'].mean())\n"
   ]
  },
  {
   "cell_type": "code",
   "execution_count": 6,
   "metadata": {},
   "outputs": [
    {
     "data": {
      "text/plain": [
       "count    449932.000000\n",
       "mean         43.523969\n",
       "std          14.080110\n",
       "min           0.000000\n",
       "25%          33.400000\n",
       "50%          42.900000\n",
       "75%          53.100000\n",
       "max          98.100000\n",
       "Name: NT_GER, dtype: float64"
      ]
     },
     "execution_count": 6,
     "metadata": {},
     "output_type": "execute_result"
    }
   ],
   "source": [
    "tabela['NT_GER'].describe()"
   ]
  },
  {
   "cell_type": "code",
   "execution_count": 7,
   "metadata": {},
   "outputs": [
    {
     "name": "stdout",
     "output_type": "stream",
     "text": [
      "indice da primeira maior nota:  72257\n",
      "Maior nota:  98.1\n"
     ]
    }
   ],
   "source": [
    "#outros comandos\n",
    "print('indice da primeira maior nota: ', tabela['NT_GER'].idxmax())\n",
    "print('Maior nota: ', tabela['NT_GER'][72257])\n",
    "#print(tabela['NT_GER'].idxmax())"
   ]
  },
  {
   "cell_type": "code",
   "execution_count": 8,
   "metadata": {},
   "outputs": [
    {
     "name": "stdout",
     "output_type": "stream",
     "text": [
      "        NT_GER  CO_CATEGAD  CO_ORGACAD  CO_MODALIDADE QE_I06\n",
      "0         52.6           1       10028              1      A\n",
      "1         63.1           1       10028              1      C\n",
      "2         33.7           1       10028              1      B\n",
      "3         58.1           1       10028              1      D\n",
      "4         46.3           1       10028              1      B\n",
      "5         64.2           1       10028              1      B\n",
      "6         41.4           1       10028              1      B\n",
      "7         48.8           1       10028              1      B\n",
      "8         52.9           1       10028              1      B\n",
      "9         62.7           1       10028              1      B\n",
      "10        51.9           1       10028              1      D\n",
      "11        58.4           1       10028              1      B\n",
      "12        77.7           1       10028              1      E\n",
      "13        37.5           1       10028              1      B\n",
      "14        66.4           1       10028              1      D\n",
      "15        71.5           1       10028              1      B\n",
      "16        57.8           1       10028              1      C\n",
      "17        62.7           1       10028              1      D\n",
      "18        75.1           1       10028              1      B\n",
      "19        50.5           1       10028              1      D\n",
      "20        46.1           1       10028              1      B\n",
      "21        44.1           1       10028              1      B\n",
      "22        47.9           1       10028              1      B\n",
      "23        55.1           1       10028              1      A\n",
      "24        73.5           1       10028              1      C\n",
      "25        60.4           1       10028              1      B\n",
      "26        62.7           1       10028              1      B\n",
      "27        49.5           1       10028              1      B\n",
      "28        44.9           1       10028              1      F\n",
      "29        27.7           1       10028              1      B\n",
      "...        ...         ...         ...            ...    ...\n",
      "534752    66.8           1       10028              1      B\n",
      "534753    69.3           1       10028              1      B\n",
      "534754    35.0           1       10028              1      B\n",
      "534755    41.6           1       10028              1      B\n",
      "534756    35.5           1       10028              1      B\n",
      "534757    43.3           1       10028              1      B\n",
      "534758    58.2           1       10028              1      B\n",
      "534759    47.6           1       10028              1      B\n",
      "534760    64.6           1       10028              1      A\n",
      "534762    55.6           1       10028              1      B\n",
      "534763    56.1           1       10028              1      C\n",
      "534764    74.3           1       10028              1      F\n",
      "534765    59.0           1       10028              1      D\n",
      "534766    53.3           1       10028              1      D\n",
      "534767    54.9           1       10028              1      D\n",
      "534768    56.7           1       10028              1      B\n",
      "534769    73.3           1       10028              1      B\n",
      "534770    41.1           1       10028              1      B\n",
      "534771    63.5           1       10028              1      D\n",
      "534772    47.1           1       10028              1      D\n",
      "534773    64.0           1       10028              1      B\n",
      "534774    78.6           1       10028              1      B\n",
      "534775    63.0           1       10028              1      D\n",
      "534776    58.9           1       10028              1      B\n",
      "534777    77.4           1       10028              1      B\n",
      "534778    74.1           1       10028              1      C\n",
      "534779    57.6           1       10028              1      D\n",
      "534780    54.9           1       10028              1      B\n",
      "534781    33.9           1       10028              1      B\n",
      "534782    54.2           1       10028              1      A\n",
      "\n",
      "[104970 rows x 5 columns]\n"
     ]
    }
   ],
   "source": [
    "#Calcula a média de um curso especifico\n",
    "#Código da categoria administrativa da IES = pública federal\n",
    "\n",
    "federal = tabela[tabela['CO_CATEGAD']==1]\n",
    "\n",
    "print(federal)"
   ]
  },
  {
   "cell_type": "code",
   "execution_count": 9,
   "metadata": {},
   "outputs": [
    {
     "data": {
      "text/plain": [
       "count    104970.000000\n",
       "mean         47.987678\n",
       "std          14.683704\n",
       "min           0.000000\n",
       "25%          37.700000\n",
       "50%          48.100000\n",
       "75%          58.400000\n",
       "max          98.100000\n",
       "Name: NT_GER, dtype: float64"
      ]
     },
     "execution_count": 9,
     "metadata": {},
     "output_type": "execute_result"
    }
   ],
   "source": [
    "federal['NT_GER'].describe()"
   ]
  },
  {
   "cell_type": "code",
   "execution_count": 10,
   "metadata": {},
   "outputs": [
    {
     "data": {
      "text/html": [
       "<div>\n",
       "<style scoped>\n",
       "    .dataframe tbody tr th:only-of-type {\n",
       "        vertical-align: middle;\n",
       "    }\n",
       "\n",
       "    .dataframe tbody tr th {\n",
       "        vertical-align: top;\n",
       "    }\n",
       "\n",
       "    .dataframe thead th {\n",
       "        text-align: right;\n",
       "    }\n",
       "</style>\n",
       "<table border=\"1\" class=\"dataframe\">\n",
       "  <thead>\n",
       "    <tr style=\"text-align: right;\">\n",
       "      <th></th>\n",
       "      <th>NT_GER</th>\n",
       "      <th>CO_CATEGAD</th>\n",
       "      <th>CO_ORGACAD</th>\n",
       "      <th>CO_MODALIDADE</th>\n",
       "    </tr>\n",
       "  </thead>\n",
       "  <tbody>\n",
       "    <tr>\n",
       "      <th>count</th>\n",
       "      <td>97062.000000</td>\n",
       "      <td>97062.0</td>\n",
       "      <td>97062.000000</td>\n",
       "      <td>97062.0</td>\n",
       "    </tr>\n",
       "    <tr>\n",
       "      <th>mean</th>\n",
       "      <td>48.488488</td>\n",
       "      <td>1.0</td>\n",
       "      <td>10027.609981</td>\n",
       "      <td>1.0</td>\n",
       "    </tr>\n",
       "    <tr>\n",
       "      <th>std</th>\n",
       "      <td>14.598628</td>\n",
       "      <td>0.0</td>\n",
       "      <td>1.267620</td>\n",
       "      <td>0.0</td>\n",
       "    </tr>\n",
       "    <tr>\n",
       "      <th>min</th>\n",
       "      <td>0.000000</td>\n",
       "      <td>1.0</td>\n",
       "      <td>10019.000000</td>\n",
       "      <td>1.0</td>\n",
       "    </tr>\n",
       "    <tr>\n",
       "      <th>25%</th>\n",
       "      <td>38.400000</td>\n",
       "      <td>1.0</td>\n",
       "      <td>10028.000000</td>\n",
       "      <td>1.0</td>\n",
       "    </tr>\n",
       "    <tr>\n",
       "      <th>50%</th>\n",
       "      <td>48.700000</td>\n",
       "      <td>1.0</td>\n",
       "      <td>10028.000000</td>\n",
       "      <td>1.0</td>\n",
       "    </tr>\n",
       "    <tr>\n",
       "      <th>75%</th>\n",
       "      <td>58.800000</td>\n",
       "      <td>1.0</td>\n",
       "      <td>10028.000000</td>\n",
       "      <td>1.0</td>\n",
       "    </tr>\n",
       "    <tr>\n",
       "      <th>max</th>\n",
       "      <td>98.100000</td>\n",
       "      <td>1.0</td>\n",
       "      <td>10028.000000</td>\n",
       "      <td>1.0</td>\n",
       "    </tr>\n",
       "  </tbody>\n",
       "</table>\n",
       "</div>"
      ],
      "text/plain": [
       "             NT_GER  CO_CATEGAD    CO_ORGACAD  CO_MODALIDADE\n",
       "count  97062.000000     97062.0  97062.000000        97062.0\n",
       "mean      48.488488         1.0  10027.609981            1.0\n",
       "std       14.598628         0.0      1.267620            0.0\n",
       "min        0.000000         1.0  10019.000000            1.0\n",
       "25%       38.400000         1.0  10028.000000            1.0\n",
       "50%       48.700000         1.0  10028.000000            1.0\n",
       "75%       58.800000         1.0  10028.000000            1.0\n",
       "max       98.100000         1.0  10028.000000            1.0"
      ]
     },
     "execution_count": 10,
     "metadata": {},
     "output_type": "execute_result"
    }
   ],
   "source": [
    "#da modalidade presencial\n",
    "fedPresencial = federal[federal['CO_MODALIDADE']==1]\n",
    "fedPresencial.describe()"
   ]
  },
  {
   "cell_type": "code",
   "execution_count": 11,
   "metadata": {},
   "outputs": [
    {
     "data": {
      "text/plain": [
       "count    54650.000000\n",
       "mean        49.464126\n",
       "std         14.411998\n",
       "min          0.000000\n",
       "25%         39.500000\n",
       "50%         49.700000\n",
       "75%         59.700000\n",
       "max         98.100000\n",
       "Name: NT_GER, dtype: float64"
      ]
     },
     "execution_count": 11,
     "metadata": {},
     "output_type": "execute_result"
    }
   ],
   "source": [
    "#alunos de instituição federal na modalidade presencial que moram com os familiares\n",
    "#B = Em casa ou apartamento, com pais e/ou parentes.\n",
    "familiares1=fedPresencial[fedPresencial['QE_I06']=='B']\n",
    "familiares1['NT_GER'].describe()\n"
   ]
  },
  {
   "cell_type": "code",
   "execution_count": 12,
   "metadata": {},
   "outputs": [
    {
     "data": {
      "text/plain": [
       "count    16689.000000\n",
       "mean        44.144233\n",
       "std         14.440750\n",
       "min          0.000000\n",
       "25%         33.900000\n",
       "50%         43.900000\n",
       "75%         54.100000\n",
       "max         89.600000\n",
       "Name: NT_GER, dtype: float64"
      ]
     },
     "execution_count": 12,
     "metadata": {},
     "output_type": "execute_result"
    }
   ],
   "source": [
    "#C = Em casa ou apartamento, com cônjuge e/ou filhos.\n",
    "familiares2=fedPresencial[fedPresencial['QE_I06']=='C']\n",
    "familiares2['NT_GER'].describe()"
   ]
  },
  {
   "cell_type": "code",
   "execution_count": 13,
   "metadata": {},
   "outputs": [
    {
     "data": {
      "text/plain": [
       "count    7752.000000\n",
       "mean       48.179192\n",
       "std        15.114177\n",
       "min         0.000000\n",
       "25%        37.800000\n",
       "50%        48.500000\n",
       "75%        59.000000\n",
       "max        96.400000\n",
       "Name: NT_GER, dtype: float64"
      ]
     },
     "execution_count": 13,
     "metadata": {},
     "output_type": "execute_result"
    }
   ],
   "source": [
    "#alunos de instituição federal na modalidade presencial que não moram com os familiares\n",
    "#A = Em casa ou apartamento, sozinho.\n",
    "semFamilia1=fedPresencial[fedPresencial['QE_I06']=='A']\n",
    "semFamilia1['NT_GER'].describe()\n"
   ]
  },
  {
   "cell_type": "code",
   "execution_count": 14,
   "metadata": {},
   "outputs": [
    {
     "data": {
      "text/plain": [
       "count    14091.000000\n",
       "mean        50.738777\n",
       "std         13.845553\n",
       "min          0.000000\n",
       "25%         41.500000\n",
       "50%         51.100000\n",
       "75%         60.500000\n",
       "max         95.100000\n",
       "Name: NT_GER, dtype: float64"
      ]
     },
     "execution_count": 14,
     "metadata": {},
     "output_type": "execute_result"
    }
   ],
   "source": [
    "#D = Em casa ou apartamento, com outras pessoas (incluindo república).\n",
    "semFamilia2=fedPresencial[fedPresencial['QE_I06']=='D']\n",
    "semFamilia2['NT_GER'].describe()"
   ]
  },
  {
   "cell_type": "code",
   "execution_count": 15,
   "metadata": {},
   "outputs": [
    {
     "data": {
      "text/plain": [
       "count    1083.000000\n",
       "mean       50.390028\n",
       "std        14.944263\n",
       "min         0.000000\n",
       "25%        40.450000\n",
       "50%        50.800000\n",
       "75%        60.950000\n",
       "max        87.400000\n",
       "Name: NT_GER, dtype: float64"
      ]
     },
     "execution_count": 15,
     "metadata": {},
     "output_type": "execute_result"
    }
   ],
   "source": [
    "#E = Em alojamento universitário da própria instituição.\n",
    "semFamilia3=fedPresencial[fedPresencial['QE_I06']=='E']\n",
    "semFamilia3['NT_GER'].describe()\n"
   ]
  },
  {
   "cell_type": "code",
   "execution_count": 16,
   "metadata": {},
   "outputs": [
    {
     "data": {
      "text/plain": [
       "count    1109.000000\n",
       "mean       46.515329\n",
       "std        14.371498\n",
       "min         8.100000\n",
       "25%        36.200000\n",
       "50%        46.400000\n",
       "75%        57.000000\n",
       "max        84.200000\n",
       "Name: NT_GER, dtype: float64"
      ]
     },
     "execution_count": 16,
     "metadata": {},
     "output_type": "execute_result"
    }
   ],
   "source": [
    "#F = Em outros tipos de habitação individual ou coletiva (hotel, hospedaria, pensão ou outro).\n",
    "semFamilia4=fedPresencial[fedPresencial['QE_I06']=='F']\n",
    "semFamilia4['NT_GER'].describe()"
   ]
  },
  {
   "cell_type": "code",
   "execution_count": 17,
   "metadata": {},
   "outputs": [
    {
     "data": {
      "text/plain": [
       "count    95374.000000\n",
       "mean        48.593335\n",
       "std         14.560325\n",
       "min          0.000000\n",
       "25%         38.500000\n",
       "50%         48.800000\n",
       "75%         58.800000\n",
       "max         98.100000\n",
       "Name: NT_GER, dtype: float64"
      ]
     },
     "execution_count": 17,
     "metadata": {},
     "output_type": "execute_result"
    }
   ],
   "source": [
    "fedPresencial=fedPresencial.loc[(fedPresencial['QE_I06'].notnull())]\n",
    "fedPresencial.NT_GER.describe()"
   ]
  },
  {
   "cell_type": "code",
   "execution_count": 18,
   "metadata": {},
   "outputs": [
    {
     "data": {
      "text/plain": [
       "0    1\n",
       "1    3\n",
       "2    2\n",
       "3    4\n",
       "4    2\n",
       "5    2\n",
       "6    2\n",
       "7    2\n",
       "8    2\n",
       "9    2\n",
       "Name: QE_I06, dtype: int64"
      ]
     },
     "execution_count": 18,
     "metadata": {},
     "output_type": "execute_result"
    }
   ],
   "source": [
    "fedPresencial.QE_I06.head(10)\n",
    "\n",
    "fedPresencial['QE_I06'] = fedPresencial['QE_I06'].map({'A': 1, 'B': 2, 'C': 3, 'D': 4,'E': 5, 'F':6})\n",
    "\n",
    "fedPresencial.QE_I06.head(10)\n",
    "\n"
   ]
  },
  {
   "cell_type": "code",
   "execution_count": 19,
   "metadata": {},
   "outputs": [
    {
     "data": {
      "image/png": "[encoded data removed]",
      "text/plain": [
       "<Figure size 432x288 with 1 Axes>"
      ]
     },
     "metadata": {},
     "output_type": "display_data"
    }
   ],
   "source": [
    "import matplotlib.pyplot as plt\n",
    "import matplotlib\n",
    "\n",
    "\n",
    "#visualmente\n",
    "plt.scatter( fedPresencial.NT_GER, fedPresencial.QE_I06)\n",
    "plt.ylabel('Modalidade de moradia')\n",
    "plt.xlabel('Nota das instituições federais')\n",
    "\n",
    "#plt.axis(( 0, 100, 1, 6))\n",
    "plt.show()"
   ]
  },
  {
   "cell_type": "code",
   "execution_count": 20,
   "metadata": {
    "scrolled": true
   },
   "outputs": [
    {
     "data": {
      "text/plain": [
       "<matplotlib.axes._subplots.AxesSubplot at 0x233431a6fd0>"
      ]
     },
     "execution_count": 20,
     "metadata": {},
     "output_type": "execute_result"
    },
    {
     "data": {
      "image/png": "[encoded data removed]",
      "text/plain": [
       "<Figure size 432x288 with 1 Axes>"
      ]
     },
     "metadata": {},
     "output_type": "display_data"
    }
   ],
   "source": [
    "#Como verificar se a média dos alunos do campo QE_I05 para todos os alunos são realmente diferentes\n",
    "qe06 = pandas.DataFrame(tabela, columns=['NT_GER', 'QE_I06'])\n",
    "qe06.boxplot(by='QE_I06')\n",
    "\n"
   ]
  },
  {
   "cell_type": "code",
   "execution_count": 21,
   "metadata": {},
   "outputs": [
    {
     "data": {
      "text/plain": [
       "<matplotlib.axes._subplots.AxesSubplot at 0x2334385d518>"
      ]
     },
     "execution_count": 21,
     "metadata": {},
     "output_type": "execute_result"
    },
    {
     "data": {
      "image/png": "[encoded data removed]",
      "text/plain": [
       "<Figure size 432x288 with 1 Axes>"
      ]
     },
     "metadata": {},
     "output_type": "display_data"
    }
   ],
   "source": [
    "#para os alunos de instituições federais\n",
    "qe06 = pandas.DataFrame(federal, columns=['NT_GER', 'QE_I06'])\n",
    "qe06.boxplot(by='QE_I06')"
   ]
  },
  {
   "cell_type": "code",
   "execution_count": 22,
   "metadata": {},
   "outputs": [
    {
     "data": {
      "text/html": [
       "<div>\n",
       "<style scoped>\n",
       "    .dataframe tbody tr th:only-of-type {\n",
       "        vertical-align: middle;\n",
       "    }\n",
       "\n",
       "    .dataframe tbody tr th {\n",
       "        vertical-align: top;\n",
       "    }\n",
       "\n",
       "    .dataframe thead th {\n",
       "        text-align: right;\n",
       "    }\n",
       "</style>\n",
       "<table border=\"1\" class=\"dataframe\">\n",
       "  <thead>\n",
       "    <tr style=\"text-align: right;\">\n",
       "      <th></th>\n",
       "      <th>count</th>\n",
       "      <th>mean</th>\n",
       "      <th>std</th>\n",
       "      <th>min</th>\n",
       "      <th>25%</th>\n",
       "      <th>50%</th>\n",
       "      <th>75%</th>\n",
       "      <th>max</th>\n",
       "    </tr>\n",
       "    <tr>\n",
       "      <th>QE_I06</th>\n",
       "      <th></th>\n",
       "      <th></th>\n",
       "      <th></th>\n",
       "      <th></th>\n",
       "      <th></th>\n",
       "      <th></th>\n",
       "      <th></th>\n",
       "      <th></th>\n",
       "    </tr>\n",
       "  </thead>\n",
       "  <tbody>\n",
       "    <tr>\n",
       "      <th>A</th>\n",
       "      <td>31348.0</td>\n",
       "      <td>43.500695</td>\n",
       "      <td>14.535478</td>\n",
       "      <td>0.0</td>\n",
       "      <td>33.000</td>\n",
       "      <td>42.8</td>\n",
       "      <td>53.4</td>\n",
       "      <td>97.0</td>\n",
       "    </tr>\n",
       "    <tr>\n",
       "      <th>B</th>\n",
       "      <td>233955.0</td>\n",
       "      <td>44.468462</td>\n",
       "      <td>13.914832</td>\n",
       "      <td>0.0</td>\n",
       "      <td>34.500</td>\n",
       "      <td>44.0</td>\n",
       "      <td>54.0</td>\n",
       "      <td>98.1</td>\n",
       "    </tr>\n",
       "    <tr>\n",
       "      <th>C</th>\n",
       "      <td>143888.0</td>\n",
       "      <td>41.321497</td>\n",
       "      <td>13.756141</td>\n",
       "      <td>0.0</td>\n",
       "      <td>31.400</td>\n",
       "      <td>40.5</td>\n",
       "      <td>50.5</td>\n",
       "      <td>96.2</td>\n",
       "    </tr>\n",
       "    <tr>\n",
       "      <th>D</th>\n",
       "      <td>28525.0</td>\n",
       "      <td>48.078307</td>\n",
       "      <td>14.201474</td>\n",
       "      <td>0.0</td>\n",
       "      <td>38.300</td>\n",
       "      <td>48.2</td>\n",
       "      <td>58.0</td>\n",
       "      <td>95.1</td>\n",
       "    </tr>\n",
       "    <tr>\n",
       "      <th>E</th>\n",
       "      <td>1696.0</td>\n",
       "      <td>48.664269</td>\n",
       "      <td>15.332293</td>\n",
       "      <td>0.0</td>\n",
       "      <td>38.600</td>\n",
       "      <td>49.0</td>\n",
       "      <td>59.3</td>\n",
       "      <td>89.4</td>\n",
       "    </tr>\n",
       "    <tr>\n",
       "      <th>F</th>\n",
       "      <td>3456.0</td>\n",
       "      <td>43.387297</td>\n",
       "      <td>14.505435</td>\n",
       "      <td>0.0</td>\n",
       "      <td>32.875</td>\n",
       "      <td>42.7</td>\n",
       "      <td>53.6</td>\n",
       "      <td>86.4</td>\n",
       "    </tr>\n",
       "  </tbody>\n",
       "</table>\n",
       "</div>"
      ],
      "text/plain": [
       "           count       mean        std  min     25%   50%   75%   max\n",
       "QE_I06                                                               \n",
       "A        31348.0  43.500695  14.535478  0.0  33.000  42.8  53.4  97.0\n",
       "B       233955.0  44.468462  13.914832  0.0  34.500  44.0  54.0  98.1\n",
       "C       143888.0  41.321497  13.756141  0.0  31.400  40.5  50.5  96.2\n",
       "D        28525.0  48.078307  14.201474  0.0  38.300  48.2  58.0  95.1\n",
       "E         1696.0  48.664269  15.332293  0.0  38.600  49.0  59.3  89.4\n",
       "F         3456.0  43.387297  14.505435  0.0  32.875  42.7  53.6  86.4"
      ]
     },
     "execution_count": 22,
     "metadata": {},
     "output_type": "execute_result"
    }
   ],
   "source": [
    "#A análise de variância (ANOVA) é um teste usado para comparar as médias de dois grupos. \n",
    "#suposições: normalidade, independência e variância homegênea\n",
    "\n",
    "#nota geral agrupada pela questão 06\n",
    "tabela['NT_GER'].groupby(tabela['QE_I06']).describe()\n"
   ]
  },
  {
   "cell_type": "code",
   "execution_count": 26,
   "metadata": {},
   "outputs": [
    {
     "name": "stdout",
     "output_type": "stream",
     "text": [
      "Quantidade de estudantes de instituições federais = 104970\n",
      "Quantidade de estudantes de instituições federais na modalidade presencial = 97062\n",
      "Porcentagens % (B e C moram com familiares e resto não):\n",
      "B = 56.304%\n",
      "C = 17.194%\n",
      "A = 7.987%\n",
      "D = 14.518%\n",
      "E = 1.116%\n",
      "F = 1.143%\n",
      "B + C = 73.498%\n",
      "A + D + E + F = 24.763%\n",
      "Total respondidos = 98.261%\n",
      "Não responderam = 1.739%\n"
     ]
    }
   ],
   "source": [
    "#Estatisticas manuais\n",
    "#federais = 104970\n",
    "print('Quantidade de estudantes de instituições federais = 104970')\n",
    "#federais presenciais = 97062\n",
    "print('Quantidade de estudantes de instituições federais na modalidade presencial = 97062')\n",
    "#B = 54650.000000 \n",
    "print('Porcentagens % (B e C moram com familiares e resto não):')\n",
    "print('B = %.3f' % (5465000/97062) + '%')\n",
    "#C = 16689\n",
    "print('C = %.3f' % (1668900/97062)+ '%')\n",
    "#A = 7752\n",
    "print('A = %.3f' % (775200/97062)+ '%')\n",
    "#D = 14091\n",
    "print('D = %.3f' % (1409100/97062)+ '%')\n",
    "#E = 1083.000000\n",
    "print('E = %.3f' % (108300/97062)+ '%')\n",
    "#F = 1109\n",
    "print('F = %.3f' % (110900/97062)+ '%')\n",
    "print('B + C = %.3f' % ((5465000/97062) +(1668900/97062))+ '%')\n",
    "print('A + D + E + F = %.3f' % ((775200/97062) +(1409100/97062)+(108300/97062)+(110900/97062))+ '%')\n",
    "\n",
    "#Total = 95374\n",
    "print('Total respondidos = %.3f' % (9537400/97062)+ '%')\n",
    "#Nao declararam = 1688\n",
    "print('Não responderam = %.3f' % (168800/97062)+ '%')\n"
   ]
  },
  {
   "cell_type": "markdown",
   "metadata": {},
   "source": [
    "**Links utilizados:**\n",
    "\n",
    "http://portal.inep.gov.br/artigo/-/asset_publisher/B4AQV9zFY7Bv/content/mec-e-inep-divulgam-resultados-do-enade-2017-e-indicadores-de-qualidade-da-educacao-superior/21206\n",
    "\n",
    "http://portal.inep.gov.br/web/guest/microdados\n",
    "\n",
    "https://paulovasconcellos.com.br/28-comandos-%C3%BAteis-de-pandas-que-talvez-voc%C3%AA-n%C3%A3o-conhe%C3%A7a-6ab64beefa93"
   ]
  }
 ],
 "metadata": {
  "kernelspec": {
   "display_name": "Python 3",
   "language": "python",
   "name": "python3"
  },
  "language_info": {
   "codemirror_mode": {
    "name": "ipython",
    "version": 3
   },
   "file_extension": ".py",
   "mimetype": "text/x-python",
   "name": "python",
   "nbconvert_exporter": "python",
   "pygments_lexer": "ipython3",
   "version": "3.6.5"
  }
 },
 "nbformat": 4,
 "nbformat_minor": 2
}
